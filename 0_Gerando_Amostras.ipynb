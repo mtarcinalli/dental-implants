{
 "cells": [
  {
   "cell_type": "code",
   "execution_count": 1,
   "metadata": {},
   "outputs": [
    {
     "name": "stdout",
     "output_type": "stream",
     "text": [
      "postgres functions loaded...\n"
     ]
    }
   ],
   "source": [
    "import ipy_table\n",
    "import re\n",
    "%run ../aux/postgres.py"
   ]
  },
  {
   "cell_type": "code",
   "execution_count": 15,
   "metadata": {},
   "outputs": [],
   "source": [
    "# correção caracter \\0000\n",
    "cmd = (\"update tweet \"\n",
    "       \"set json = (regexp_replace(json::text, '\\\\u0000', '', 'g'))::json \"\n",
    "       \"where codprojeto = 28 and \"\n",
    "       \"(json)::varchar like '%\\\\u0000%'\"\n",
    "      )\n",
    "execSQL(cmd)"
   ]
  },
  {
   "cell_type": "code",
   "execution_count": null,
   "metadata": {},
   "outputs": [],
   "source": [
    "# correção caracter \\0000\n",
    "cmd = (\"update tweet \"\n",
    "       \"set json = (regexp_replace(json::text, '\\\\u0000', '', 'g'))::json \"\n",
    "       \"where codprojeto = 28 and \"\n",
    "       \"(json)::varchar like '%\\\\u0000%'\"\n",
    "      )\n",
    "execSQL(cmd)"
   ]
  },
  {
   "cell_type": "code",
   "execution_count": 16,
   "metadata": {},
   "outputs": [
    {
     "ename": "DataError",
     "evalue": "unsupported Unicode escape sequence\nDETAIL:  \\u0000 cannot be converted to text.\nCONTEXT:  JSON data, line 1: ...et\": null, \"statuses_count\": 8794, \"description\":...\n",
     "output_type": "error",
     "traceback": [
      "\u001b[0;31m---------------------------------------------------------------------------\u001b[0m",
      "\u001b[0;31mDataError\u001b[0m                                 Traceback (most recent call last)",
      "\u001b[0;32m<ipython-input-16-dea6af3279fa>\u001b[0m in \u001b[0;36m<module>\u001b[0;34m()\u001b[0m\n\u001b[1;32m      5\u001b[0m        \u001b[0;34m\"and json->'extended_tweet'->>'full_text' is not null \"\u001b[0m\u001b[0;34m\u001b[0m\u001b[0m\n\u001b[1;32m      6\u001b[0m       )\n\u001b[0;32m----> 7\u001b[0;31m \u001b[0mexecSQL\u001b[0m\u001b[0;34m(\u001b[0m\u001b[0mcmd\u001b[0m\u001b[0;34m)\u001b[0m\u001b[0;34m\u001b[0m\u001b[0m\n\u001b[0m",
      "\u001b[0;32m/dados/usuarios/mateus/projetos/absa/aux/postgres.py\u001b[0m in \u001b[0;36mexecSQL\u001b[0;34m(comando)\u001b[0m\n\u001b[1;32m     15\u001b[0m     \u001b[0mconn\u001b[0m\u001b[0;34m.\u001b[0m\u001b[0mrollback\u001b[0m\u001b[0;34m(\u001b[0m\u001b[0;34m)\u001b[0m\u001b[0;34m\u001b[0m\u001b[0m\n\u001b[1;32m     16\u001b[0m     \u001b[0mqry\u001b[0m \u001b[0;34m=\u001b[0m \u001b[0mconn\u001b[0m\u001b[0;34m.\u001b[0m\u001b[0mcursor\u001b[0m\u001b[0;34m(\u001b[0m\u001b[0;34m)\u001b[0m\u001b[0;34m\u001b[0m\u001b[0m\n\u001b[0;32m---> 17\u001b[0;31m     \u001b[0mok\u001b[0m \u001b[0;34m=\u001b[0m \u001b[0mqry\u001b[0m\u001b[0;34m.\u001b[0m\u001b[0mexecute\u001b[0m\u001b[0;34m(\u001b[0m\u001b[0mcomando\u001b[0m\u001b[0;34m)\u001b[0m\u001b[0;34m\u001b[0m\u001b[0m\n\u001b[0m\u001b[1;32m     18\u001b[0m     \u001b[0mconn\u001b[0m\u001b[0;34m.\u001b[0m\u001b[0mcommit\u001b[0m\u001b[0;34m(\u001b[0m\u001b[0;34m)\u001b[0m\u001b[0;34m\u001b[0m\u001b[0m\n\u001b[1;32m     19\u001b[0m     \u001b[0;32mreturn\u001b[0m \u001b[0mok\u001b[0m\u001b[0;34m\u001b[0m\u001b[0m\n",
      "\u001b[0;31mDataError\u001b[0m: unsupported Unicode escape sequence\nDETAIL:  \\u0000 cannot be converted to text.\nCONTEXT:  JSON data, line 1: ...et\": null, \"statuses_count\": 8794, \"description\":...\n"
     ]
    }
   ],
   "source": [
    "# correção tweets 280 caracteres\n",
    "cmd = (\"update tweet set \"\n",
    "       \"text = json->'extended_tweet'->>'full_text' \"\n",
    "       \"where codprojeto = 28 \"\n",
    "       \"and json->'extended_tweet'->>'full_text' is not null \"\n",
    "      )\n",
    "execSQL(cmd)"
   ]
  },
  {
   "cell_type": "code",
   "execution_count": 12,
   "metadata": {},
   "outputs": [
    {
     "name": "stdout",
     "output_type": "stream",
     "text": [
      "update tweet set text = (regexp_replace(json::text, '\\u0000', '', 'g')::json)->'extended_tweet'->>'full_text' where codtweet in (select codtweet from amostratweet where codamostra = 130) and (regexp_replace(json::text, '\\u0000', '', 'g')::json)->'extended_tweet'->>'full_text' is not null\n"
     ]
    }
   ],
   "source": [
    "# correção caratcer \\0000 tweets e tweets 280 caracteres\n",
    "cmd = (\"update tweet set \"\n",
    "       \"text = (regexp_replace(json::text, '\\\\u0000', '', 'g')::json)->'extended_tweet'->>'full_text' \"\n",
    "       \"where codtweet in (select codtweet from amostratweet where codamostra = 130) \"\n",
    "       \"and (regexp_replace(json::text, '\\\\u0000', '', 'g')::json)->'extended_tweet'->>'full_text' is not null\")\n",
    "print(cmd)\n"
   ]
  },
  {
   "cell_type": "code",
   "execution_count": null,
   "metadata": {},
   "outputs": [],
   "source": [
    "# correção tweets 280 caracteres\n",
    "#update tweet set \n",
    "#text = json->'extended_tweet'->>'full_text'\n",
    "#where codprojeto = 28 \n",
    "#and json->'extended_tweet'->>'full_text' is not null"
   ]
  },
  {
   "cell_type": "code",
   "execution_count": 11,
   "metadata": {},
   "outputs": [
    {
     "ename": "KeyboardInterrupt",
     "evalue": "",
     "output_type": "error",
     "traceback": [
      "\u001b[0;31m---------------------------------------------------------------------------\u001b[0m",
      "\u001b[0;31mKeyboardInterrupt\u001b[0m                         Traceback (most recent call last)",
      "\u001b[0;32m<ipython-input-11-ff28c0a5e7e8>\u001b[0m in \u001b[0;36m<module>\u001b[0;34m()\u001b[0m\n\u001b[0;32m----> 1\u001b[0;31m \u001b[0mquery\u001b[0m\u001b[0;34m(\u001b[0m\u001b[0;34m\"select count(codtweet) from tweet where codprojeto = 28\"\u001b[0m\u001b[0;34m)\u001b[0m\u001b[0;34m\u001b[0m\u001b[0m\n\u001b[0m",
      "\u001b[0;32m/dados/usuarios/mateus/projetos/absa/aux/postgres.py\u001b[0m in \u001b[0;36mquery\u001b[0;34m(comando)\u001b[0m\n\u001b[1;32m      8\u001b[0m     \u001b[0mconn\u001b[0m\u001b[0;34m.\u001b[0m\u001b[0mrollback\u001b[0m\u001b[0;34m(\u001b[0m\u001b[0;34m)\u001b[0m\u001b[0;34m\u001b[0m\u001b[0m\n\u001b[1;32m      9\u001b[0m     \u001b[0mqry\u001b[0m \u001b[0;34m=\u001b[0m \u001b[0mconn\u001b[0m\u001b[0;34m.\u001b[0m\u001b[0mcursor\u001b[0m\u001b[0;34m(\u001b[0m\u001b[0;34m)\u001b[0m\u001b[0;34m\u001b[0m\u001b[0m\n\u001b[0;32m---> 10\u001b[0;31m     \u001b[0mqry\u001b[0m\u001b[0;34m.\u001b[0m\u001b[0mexecute\u001b[0m\u001b[0;34m(\u001b[0m\u001b[0mcomando\u001b[0m\u001b[0;34m)\u001b[0m\u001b[0;34m\u001b[0m\u001b[0m\n\u001b[0m\u001b[1;32m     11\u001b[0m     \u001b[0mconn\u001b[0m\u001b[0;34m.\u001b[0m\u001b[0mcommit\u001b[0m\u001b[0;34m(\u001b[0m\u001b[0;34m)\u001b[0m\u001b[0;34m\u001b[0m\u001b[0m\n\u001b[1;32m     12\u001b[0m     \u001b[0;32mreturn\u001b[0m \u001b[0mqry\u001b[0m\u001b[0;34m.\u001b[0m\u001b[0mfetchall\u001b[0m\u001b[0;34m(\u001b[0m\u001b[0;34m)\u001b[0m\u001b[0;34m\u001b[0m\u001b[0m\n",
      "\u001b[0;32m/usr/lib/python3.5/encodings/utf_8.py\u001b[0m in \u001b[0;36mdecode\u001b[0;34m(input, errors)\u001b[0m\n\u001b[1;32m     13\u001b[0m \u001b[0mencode\u001b[0m \u001b[0;34m=\u001b[0m \u001b[0mcodecs\u001b[0m\u001b[0;34m.\u001b[0m\u001b[0mutf_8_encode\u001b[0m\u001b[0;34m\u001b[0m\u001b[0m\n\u001b[1;32m     14\u001b[0m \u001b[0;34m\u001b[0m\u001b[0m\n\u001b[0;32m---> 15\u001b[0;31m \u001b[0;32mdef\u001b[0m \u001b[0mdecode\u001b[0m\u001b[0;34m(\u001b[0m\u001b[0minput\u001b[0m\u001b[0;34m,\u001b[0m \u001b[0merrors\u001b[0m\u001b[0;34m=\u001b[0m\u001b[0;34m'strict'\u001b[0m\u001b[0;34m)\u001b[0m\u001b[0;34m:\u001b[0m\u001b[0;34m\u001b[0m\u001b[0m\n\u001b[0m\u001b[1;32m     16\u001b[0m     \u001b[0;32mreturn\u001b[0m \u001b[0mcodecs\u001b[0m\u001b[0;34m.\u001b[0m\u001b[0mutf_8_decode\u001b[0m\u001b[0;34m(\u001b[0m\u001b[0minput\u001b[0m\u001b[0;34m,\u001b[0m \u001b[0merrors\u001b[0m\u001b[0;34m,\u001b[0m \u001b[0;32mTrue\u001b[0m\u001b[0;34m)\u001b[0m\u001b[0;34m\u001b[0m\u001b[0m\n\u001b[1;32m     17\u001b[0m \u001b[0;34m\u001b[0m\u001b[0m\n",
      "\u001b[0;31mKeyboardInterrupt\u001b[0m: "
     ]
    }
   ],
   "source": [
    "query(\"select count(codtweet) from tweet where codprojeto = 28\")"
   ]
  },
  {
   "cell_type": "code",
   "execution_count": 9,
   "metadata": {},
   "outputs": [
    {
     "data": {
      "text/plain": [
       "[(131, 'Tweets Dental Implant', 'Tweets com expressão dental implant'),\n",
       " (132,\n",
       "  'Tweets Dental Implant [en]',\n",
       "  'Tweets com expressão dental implant em inglês'),\n",
       " (133,\n",
       "  'Tweets Dental Implant [en / no similar]',\n",
       "  'Tweets com expressão dental implant em inglês e sem tweets similares'),\n",
       " (134,\n",
       "  'Tweets Dental Implant [100 / en / no similar]',\n",
       "  '100 tweets com expressão dental implant em inglês e sem tweets similares'),\n",
       " (135,\n",
       "  'Tweets Dental Implant [1000 / en / no similar]',\n",
       "  '1000 tweets com expressão dental implant em inglês e sem tweets similares'),\n",
       " (218, 'Tweets Dental Implant 2020', None),\n",
       " (219, 'Tweets Dental Implant 2020 [en]', None),\n",
       " (220, 'Tweets Dental Implant 2020 [en / no similar]', None)]"
      ]
     },
     "execution_count": 9,
     "metadata": {},
     "output_type": "execute_result"
    }
   ],
   "source": [
    "query(\"select codamostra, descricao, observacao from amostra where lower(descricao) like '%implant%' order by codamostra\")"
   ]
  },
  {
   "cell_type": "code",
   "execution_count": 27,
   "metadata": {},
   "outputs": [
    {
     "data": {
      "text/plain": [
       "[(131, 'Tweets Dental Implant', 245410),\n",
       " (132, 'Tweets Dental Implant [en]', 222603),\n",
       " (133, 'Tweets Dental Implant [en / no similar]', 136564),\n",
       " (134, 'Tweets Dental Implant [100 / en / no similar]', 100),\n",
       " (135, 'Tweets Dental Implant [1000 / en / no similar]', 1000),\n",
       " (218, 'Tweets Dental Implant 2020', 325549),\n",
       " (219, 'Tweets Dental Implant 2020 [en]', 300691),\n",
       " (220, 'Tweets Dental Implant 2020 [en / no similar]', 179979)]"
      ]
     },
     "execution_count": 27,
     "metadata": {},
     "output_type": "execute_result"
    }
   ],
   "source": [
    "query(\"select a.codamostra, descricao, (select count(codtweet) from amostratweet at where at.codamostra = a.codamostra) from amostra a where lower(descricao) like '%implant%' order by codamostra\")"
   ]
  },
  {
   "cell_type": "code",
   "execution_count": 37,
   "metadata": {},
   "outputs": [
    {
     "data": {
      "text/plain": [
       "[(131, 'Tweets Dental Implant', 245410),\n",
       " (132, 'Tweets Dental Implant [en]', 222603),\n",
       " (133, 'Tweets Dental Implant [en / no similar]', 136564),\n",
       " (134, 'Tweets Dental Implant [100 / en / no similar]', 100),\n",
       " (135, 'Tweets Dental Implant [1000 / en / no similar]', 1000),\n",
       " (218, 'Tweets Dental Implant 2020', 318004),\n",
       " (219, 'Tweets Dental Implant 2020 [en]', 293306),\n",
       " (220, 'Tweets Dental Implant 2020 [en / no similar]', 179979)]"
      ]
     },
     "execution_count": 37,
     "metadata": {},
     "output_type": "execute_result"
    }
   ],
   "source": [
    "query(\"select a.codamostra, descricao, (select count(codtweet) from amostratweet at where at.codamostra = a.codamostra) from amostra a where lower(descricao) like '%implant%' order by codamostra\")"
   ]
  },
  {
   "cell_type": "code",
   "execution_count": 23,
   "metadata": {},
   "outputs": [
    {
     "name": "stdout",
     "output_type": "stream",
     "text": [
      "INSERT INTO amostratweet (codamostra, codtweet) SELECT 219, codtweet FROM tweet WHERE codprojeto = 28 AND lower(text) like '%dental implant%' AND json->>'lang' = 'en'\n"
     ]
    }
   ],
   "source": [
    "cmd = (\n",
    "    \"INSERT INTO amostratweet (codamostra, codtweet) \"\n",
    "    \"SELECT 219, codtweet \"\n",
    "    \"FROM tweet \"\n",
    "    \"WHERE codprojeto = 28 \"\n",
    "    \"AND lower(text) like '%dental implant%' \"\n",
    "    \"AND json->>'lang' = 'en'\"\n",
    "    )\n",
    "print(cmd)"
   ]
  },
  {
   "cell_type": "code",
   "execution_count": null,
   "metadata": {},
   "outputs": [],
   "source": [
    "cmd = (\"select count(at.codtweet) \"\n",
    "       \"from amostratweet at \"\n",
    "       \"inner join tweet t on t.codtweet = at.codtweet \"\n",
    "       \"where codamostra = 218\")\n",
    "print(cmd)\n",
    "#query(cmd)"
   ]
  },
  {
   "cell_type": "code",
   "execution_count": 31,
   "metadata": {},
   "outputs": [
    {
     "name": "stdout",
     "output_type": "stream",
     "text": [
      "select count(at.codtweet) from amostratweet at inner join tweet t on t.codtweet = at.codtweet where codamostra = 218 and datatweet > '2019-11-31'\n"
     ]
    }
   ],
   "source": [
    "cmd = (\"select count(at.codtweet) \"\n",
    "       \"from amostratweet at \"\n",
    "       \"inner join tweet t on t.codtweet = at.codtweet \"\n",
    "       \"where codamostra = 218 and datatweet > '2019-11-31'\")\n",
    "print(cmd)\n",
    "#query(cmd)"
   ]
  },
  {
   "cell_type": "code",
   "execution_count": null,
   "metadata": {},
   "outputs": [],
   "source": []
  },
  {
   "cell_type": "code",
   "execution_count": null,
   "metadata": {},
   "outputs": [],
   "source": []
  },
  {
   "cell_type": "code",
   "execution_count": null,
   "metadata": {},
   "outputs": [],
   "source": []
  },
  {
   "cell_type": "code",
   "execution_count": null,
   "metadata": {},
   "outputs": [],
   "source": []
  },
  {
   "cell_type": "code",
   "execution_count": null,
   "metadata": {},
   "outputs": [],
   "source": []
  }
 ],
 "metadata": {
  "kernelspec": {
   "display_name": "Python 3",
   "language": "python",
   "name": "python3"
  },
  "language_info": {
   "codemirror_mode": {
    "name": "ipython",
    "version": 3
   },
   "file_extension": ".py",
   "mimetype": "text/x-python",
   "name": "python",
   "nbconvert_exporter": "python",
   "pygments_lexer": "ipython3",
   "version": "3.5.3"
  }
 },
 "nbformat": 4,
 "nbformat_minor": 2
}
